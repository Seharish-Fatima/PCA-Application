{
 "cells": [
  {
   "cell_type": "code",
   "execution_count": 1,
   "id": "cd68266a-4b5f-4932-b989-767a0247c149",
   "metadata": {},
   "outputs": [],
   "source": [
    "import pandas as pd\n",
    "from sklearn.preprocessing import StandardScaler"
   ]
  },
  {
   "cell_type": "code",
   "execution_count": 2,
   "id": "73c0f8b5-e93e-4e6a-bed4-be6338cfb320",
   "metadata": {},
   "outputs": [],
   "source": [
    "df = pd.read_csv(\"fraudTrain.csv\", encoding=\"ISO-8859-1\")"
   ]
  },
  {
   "cell_type": "code",
   "execution_count": 3,
   "id": "938fdf02-0f53-4228-b29c-1f5d2e4a3265",
   "metadata": {},
   "outputs": [
    {
     "data": {
      "text/html": [
       "<div>\n",
       "<style scoped>\n",
       "    .dataframe tbody tr th:only-of-type {\n",
       "        vertical-align: middle;\n",
       "    }\n",
       "\n",
       "    .dataframe tbody tr th {\n",
       "        vertical-align: top;\n",
       "    }\n",
       "\n",
       "    .dataframe thead th {\n",
       "        text-align: right;\n",
       "    }\n",
       "</style>\n",
       "<table border=\"1\" class=\"dataframe\">\n",
       "  <thead>\n",
       "    <tr style=\"text-align: right;\">\n",
       "      <th></th>\n",
       "      <th>Unnamed: 0</th>\n",
       "      <th>trans_date_trans_time</th>\n",
       "      <th>cc_num</th>\n",
       "      <th>merchant</th>\n",
       "      <th>category</th>\n",
       "      <th>amt</th>\n",
       "      <th>first</th>\n",
       "      <th>last</th>\n",
       "      <th>gender</th>\n",
       "      <th>street</th>\n",
       "      <th>...</th>\n",
       "      <th>lat</th>\n",
       "      <th>long</th>\n",
       "      <th>city_pop</th>\n",
       "      <th>job</th>\n",
       "      <th>dob</th>\n",
       "      <th>trans_num</th>\n",
       "      <th>unix_time</th>\n",
       "      <th>merch_lat</th>\n",
       "      <th>merch_long</th>\n",
       "      <th>is_fraud</th>\n",
       "    </tr>\n",
       "  </thead>\n",
       "  <tbody>\n",
       "    <tr>\n",
       "      <th>0</th>\n",
       "      <td>0</td>\n",
       "      <td>2019-01-01 00:00:18</td>\n",
       "      <td>2703186189652095</td>\n",
       "      <td>fraud_Rippin, Kub and Mann</td>\n",
       "      <td>misc_net</td>\n",
       "      <td>4.97</td>\n",
       "      <td>Jennifer</td>\n",
       "      <td>Banks</td>\n",
       "      <td>F</td>\n",
       "      <td>561 Perry Cove</td>\n",
       "      <td>...</td>\n",
       "      <td>36.0788</td>\n",
       "      <td>-81.1781</td>\n",
       "      <td>3495</td>\n",
       "      <td>Psychologist, counselling</td>\n",
       "      <td>1988-03-09</td>\n",
       "      <td>0b242abb623afc578575680df30655b9</td>\n",
       "      <td>1325376018</td>\n",
       "      <td>36.011293</td>\n",
       "      <td>-82.048315</td>\n",
       "      <td>0</td>\n",
       "    </tr>\n",
       "    <tr>\n",
       "      <th>1</th>\n",
       "      <td>1</td>\n",
       "      <td>2019-01-01 00:00:44</td>\n",
       "      <td>630423337322</td>\n",
       "      <td>fraud_Heller, Gutmann and Zieme</td>\n",
       "      <td>grocery_pos</td>\n",
       "      <td>107.23</td>\n",
       "      <td>Stephanie</td>\n",
       "      <td>Gill</td>\n",
       "      <td>F</td>\n",
       "      <td>43039 Riley Greens Suite 393</td>\n",
       "      <td>...</td>\n",
       "      <td>48.8878</td>\n",
       "      <td>-118.2105</td>\n",
       "      <td>149</td>\n",
       "      <td>Special educational needs teacher</td>\n",
       "      <td>1978-06-21</td>\n",
       "      <td>1f76529f8574734946361c461b024d99</td>\n",
       "      <td>1325376044</td>\n",
       "      <td>49.159047</td>\n",
       "      <td>-118.186462</td>\n",
       "      <td>0</td>\n",
       "    </tr>\n",
       "    <tr>\n",
       "      <th>2</th>\n",
       "      <td>2</td>\n",
       "      <td>2019-01-01 00:00:51</td>\n",
       "      <td>38859492057661</td>\n",
       "      <td>fraud_Lind-Buckridge</td>\n",
       "      <td>entertainment</td>\n",
       "      <td>220.11</td>\n",
       "      <td>Edward</td>\n",
       "      <td>Sanchez</td>\n",
       "      <td>M</td>\n",
       "      <td>594 White Dale Suite 530</td>\n",
       "      <td>...</td>\n",
       "      <td>42.1808</td>\n",
       "      <td>-112.2620</td>\n",
       "      <td>4154</td>\n",
       "      <td>Nature conservation officer</td>\n",
       "      <td>1962-01-19</td>\n",
       "      <td>a1a22d70485983eac12b5b88dad1cf95</td>\n",
       "      <td>1325376051</td>\n",
       "      <td>43.150704</td>\n",
       "      <td>-112.154481</td>\n",
       "      <td>0</td>\n",
       "    </tr>\n",
       "    <tr>\n",
       "      <th>3</th>\n",
       "      <td>3</td>\n",
       "      <td>2019-01-01 00:01:16</td>\n",
       "      <td>3534093764340240</td>\n",
       "      <td>fraud_Kutch, Hermiston and Farrell</td>\n",
       "      <td>gas_transport</td>\n",
       "      <td>45.00</td>\n",
       "      <td>Jeremy</td>\n",
       "      <td>White</td>\n",
       "      <td>M</td>\n",
       "      <td>9443 Cynthia Court Apt. 038</td>\n",
       "      <td>...</td>\n",
       "      <td>46.2306</td>\n",
       "      <td>-112.1138</td>\n",
       "      <td>1939</td>\n",
       "      <td>Patent attorney</td>\n",
       "      <td>1967-01-12</td>\n",
       "      <td>6b849c168bdad6f867558c3793159a81</td>\n",
       "      <td>1325376076</td>\n",
       "      <td>47.034331</td>\n",
       "      <td>-112.561071</td>\n",
       "      <td>0</td>\n",
       "    </tr>\n",
       "    <tr>\n",
       "      <th>4</th>\n",
       "      <td>4</td>\n",
       "      <td>2019-01-01 00:03:06</td>\n",
       "      <td>375534208663984</td>\n",
       "      <td>fraud_Keeling-Crist</td>\n",
       "      <td>misc_pos</td>\n",
       "      <td>41.96</td>\n",
       "      <td>Tyler</td>\n",
       "      <td>Garcia</td>\n",
       "      <td>M</td>\n",
       "      <td>408 Bradley Rest</td>\n",
       "      <td>...</td>\n",
       "      <td>38.4207</td>\n",
       "      <td>-79.4629</td>\n",
       "      <td>99</td>\n",
       "      <td>Dance movement psychotherapist</td>\n",
       "      <td>1986-03-28</td>\n",
       "      <td>a41d7549acf90789359a9aa5346dcb46</td>\n",
       "      <td>1325376186</td>\n",
       "      <td>38.674999</td>\n",
       "      <td>-78.632459</td>\n",
       "      <td>0</td>\n",
       "    </tr>\n",
       "  </tbody>\n",
       "</table>\n",
       "<p>5 rows × 23 columns</p>\n",
       "</div>"
      ],
      "text/plain": [
       "   Unnamed: 0 trans_date_trans_time            cc_num  \\\n",
       "0           0   2019-01-01 00:00:18  2703186189652095   \n",
       "1           1   2019-01-01 00:00:44      630423337322   \n",
       "2           2   2019-01-01 00:00:51    38859492057661   \n",
       "3           3   2019-01-01 00:01:16  3534093764340240   \n",
       "4           4   2019-01-01 00:03:06   375534208663984   \n",
       "\n",
       "                             merchant       category     amt      first  \\\n",
       "0          fraud_Rippin, Kub and Mann       misc_net    4.97   Jennifer   \n",
       "1     fraud_Heller, Gutmann and Zieme    grocery_pos  107.23  Stephanie   \n",
       "2                fraud_Lind-Buckridge  entertainment  220.11     Edward   \n",
       "3  fraud_Kutch, Hermiston and Farrell  gas_transport   45.00     Jeremy   \n",
       "4                 fraud_Keeling-Crist       misc_pos   41.96      Tyler   \n",
       "\n",
       "      last gender                        street  ...      lat      long  \\\n",
       "0    Banks      F                561 Perry Cove  ...  36.0788  -81.1781   \n",
       "1     Gill      F  43039 Riley Greens Suite 393  ...  48.8878 -118.2105   \n",
       "2  Sanchez      M      594 White Dale Suite 530  ...  42.1808 -112.2620   \n",
       "3    White      M   9443 Cynthia Court Apt. 038  ...  46.2306 -112.1138   \n",
       "4   Garcia      M              408 Bradley Rest  ...  38.4207  -79.4629   \n",
       "\n",
       "   city_pop                                job         dob  \\\n",
       "0      3495          Psychologist, counselling  1988-03-09   \n",
       "1       149  Special educational needs teacher  1978-06-21   \n",
       "2      4154        Nature conservation officer  1962-01-19   \n",
       "3      1939                    Patent attorney  1967-01-12   \n",
       "4        99     Dance movement psychotherapist  1986-03-28   \n",
       "\n",
       "                          trans_num   unix_time  merch_lat  merch_long  \\\n",
       "0  0b242abb623afc578575680df30655b9  1325376018  36.011293  -82.048315   \n",
       "1  1f76529f8574734946361c461b024d99  1325376044  49.159047 -118.186462   \n",
       "2  a1a22d70485983eac12b5b88dad1cf95  1325376051  43.150704 -112.154481   \n",
       "3  6b849c168bdad6f867558c3793159a81  1325376076  47.034331 -112.561071   \n",
       "4  a41d7549acf90789359a9aa5346dcb46  1325376186  38.674999  -78.632459   \n",
       "\n",
       "   is_fraud  \n",
       "0         0  \n",
       "1         0  \n",
       "2         0  \n",
       "3         0  \n",
       "4         0  \n",
       "\n",
       "[5 rows x 23 columns]"
      ]
     },
     "execution_count": 3,
     "metadata": {},
     "output_type": "execute_result"
    }
   ],
   "source": [
    "df.head()"
   ]
  },
  {
   "cell_type": "code",
   "execution_count": 4,
   "id": "ac2e7dec-a583-404e-9cb5-1fffb9097f52",
   "metadata": {},
   "outputs": [
    {
     "data": {
      "text/plain": [
       "Index(['Unnamed: 0', 'trans_date_trans_time', 'cc_num', 'merchant', 'category',\n",
       "       'amt', 'first', 'last', 'gender', 'street', 'city', 'state', 'zip',\n",
       "       'lat', 'long', 'city_pop', 'job', 'dob', 'trans_num', 'unix_time',\n",
       "       'merch_lat', 'merch_long', 'is_fraud'],\n",
       "      dtype='object')"
      ]
     },
     "execution_count": 4,
     "metadata": {},
     "output_type": "execute_result"
    }
   ],
   "source": [
    "df.columns"
   ]
  },
  {
   "cell_type": "code",
   "execution_count": 5,
   "id": "d375433f-cb3a-4e7b-b8ff-9244489899ce",
   "metadata": {},
   "outputs": [
    {
     "name": "stdout",
     "output_type": "stream",
     "text": [
      "<class 'pandas.core.frame.DataFrame'>\n",
      "RangeIndex: 1296675 entries, 0 to 1296674\n",
      "Data columns (total 23 columns):\n",
      " #   Column                 Non-Null Count    Dtype  \n",
      "---  ------                 --------------    -----  \n",
      " 0   Unnamed: 0             1296675 non-null  int64  \n",
      " 1   trans_date_trans_time  1296675 non-null  object \n",
      " 2   cc_num                 1296675 non-null  int64  \n",
      " 3   merchant               1296675 non-null  object \n",
      " 4   category               1296675 non-null  object \n",
      " 5   amt                    1296675 non-null  float64\n",
      " 6   first                  1296675 non-null  object \n",
      " 7   last                   1296675 non-null  object \n",
      " 8   gender                 1296675 non-null  object \n",
      " 9   street                 1296675 non-null  object \n",
      " 10  city                   1296675 non-null  object \n",
      " 11  state                  1296675 non-null  object \n",
      " 12  zip                    1296675 non-null  int64  \n",
      " 13  lat                    1296675 non-null  float64\n",
      " 14  long                   1296675 non-null  float64\n",
      " 15  city_pop               1296675 non-null  int64  \n",
      " 16  job                    1296675 non-null  object \n",
      " 17  dob                    1296675 non-null  object \n",
      " 18  trans_num              1296675 non-null  object \n",
      " 19  unix_time              1296675 non-null  int64  \n",
      " 20  merch_lat              1296675 non-null  float64\n",
      " 21  merch_long             1296675 non-null  float64\n",
      " 22  is_fraud               1296675 non-null  int64  \n",
      "dtypes: float64(5), int64(6), object(12)\n",
      "memory usage: 227.5+ MB\n"
     ]
    }
   ],
   "source": [
    "df.info()"
   ]
  },
  {
   "cell_type": "code",
   "execution_count": 6,
   "id": "88d90c2c-c2a8-41b5-a588-b2dff26bbbd0",
   "metadata": {},
   "outputs": [],
   "source": [
    "features = ['cc_num', 'amt', 'zip', 'lat', 'long', 'city_pop', 'unix_time', 'merch_lat', 'merch_long', 'is_fraud']\n",
    "x = df.loc[:, features].values\n",
    "y = df.loc[:,['amt']].values\n",
    "x = StandardScaler().fit_transform(x)"
   ]
  },
  {
   "cell_type": "code",
   "execution_count": 7,
   "id": "99747237-c370-4ba2-a3ae-487a24b31805",
   "metadata": {},
   "outputs": [],
   "source": [
    "from sklearn.decomposition import PCA\n",
    "\n",
    "pca = PCA(n_components=5)\n",
    "\n",
    "principalComponents = pca.fit_transform(x)\n",
    "\n",
    "principalDf = pd.DataFrame(data = principalComponents\n",
    "             , columns = ['principal component 1', 'principal component 2', 'principal component 3', 'principal component 4', 'principal component 5'])"
   ]
  },
  {
   "cell_type": "code",
   "execution_count": 8,
   "id": "99d09e0a-7252-4c1d-90b2-8e0a3e0c309c",
   "metadata": {},
   "outputs": [],
   "source": [
    "finalDf = pd.concat([principalDf, df[['amt']]], axis = 1)"
   ]
  },
  {
   "cell_type": "code",
   "execution_count": 9,
   "id": "ea4a239d-cc1f-4dca-8344-06db56103324",
   "metadata": {},
   "outputs": [
    {
     "data": {
      "text/html": [
       "<div>\n",
       "<style scoped>\n",
       "    .dataframe tbody tr th:only-of-type {\n",
       "        vertical-align: middle;\n",
       "    }\n",
       "\n",
       "    .dataframe tbody tr th {\n",
       "        vertical-align: top;\n",
       "    }\n",
       "\n",
       "    .dataframe thead th {\n",
       "        text-align: right;\n",
       "    }\n",
       "</style>\n",
       "<table border=\"1\" class=\"dataframe\">\n",
       "  <thead>\n",
       "    <tr style=\"text-align: right;\">\n",
       "      <th></th>\n",
       "      <th>principal component 1</th>\n",
       "      <th>principal component 2</th>\n",
       "      <th>principal component 3</th>\n",
       "      <th>principal component 4</th>\n",
       "      <th>principal component 5</th>\n",
       "      <th>amt</th>\n",
       "    </tr>\n",
       "  </thead>\n",
       "  <tbody>\n",
       "    <tr>\n",
       "      <th>0</th>\n",
       "      <td>-1.115002</td>\n",
       "      <td>-0.710801</td>\n",
       "      <td>-0.319098</td>\n",
       "      <td>0.405811</td>\n",
       "      <td>-1.817508</td>\n",
       "      <td>4.97</td>\n",
       "    </tr>\n",
       "    <tr>\n",
       "      <th>1</th>\n",
       "      <td>3.096899</td>\n",
       "      <td>3.273340</td>\n",
       "      <td>0.151566</td>\n",
       "      <td>0.561539</td>\n",
       "      <td>-1.792415</td>\n",
       "      <td>107.23</td>\n",
       "    </tr>\n",
       "    <tr>\n",
       "      <th>2</th>\n",
       "      <td>2.426565</td>\n",
       "      <td>1.476409</td>\n",
       "      <td>0.639419</td>\n",
       "      <td>0.493559</td>\n",
       "      <td>-1.779087</td>\n",
       "      <td>220.11</td>\n",
       "    </tr>\n",
       "    <tr>\n",
       "      <th>3</th>\n",
       "      <td>1.837218</td>\n",
       "      <td>2.554559</td>\n",
       "      <td>-0.126515</td>\n",
       "      <td>0.520487</td>\n",
       "      <td>-1.806087</td>\n",
       "      <td>45.00</td>\n",
       "    </tr>\n",
       "    <tr>\n",
       "      <th>4</th>\n",
       "      <td>-1.484057</td>\n",
       "      <td>-0.069839</td>\n",
       "      <td>-0.152185</td>\n",
       "      <td>0.416721</td>\n",
       "      <td>-1.813394</td>\n",
       "      <td>41.96</td>\n",
       "    </tr>\n",
       "  </tbody>\n",
       "</table>\n",
       "</div>"
      ],
      "text/plain": [
       "   principal component 1  principal component 2  principal component 3  \\\n",
       "0              -1.115002              -0.710801              -0.319098   \n",
       "1               3.096899               3.273340               0.151566   \n",
       "2               2.426565               1.476409               0.639419   \n",
       "3               1.837218               2.554559              -0.126515   \n",
       "4              -1.484057              -0.069839              -0.152185   \n",
       "\n",
       "   principal component 4  principal component 5     amt  \n",
       "0               0.405811              -1.817508    4.97  \n",
       "1               0.561539              -1.792415  107.23  \n",
       "2               0.493559              -1.779087  220.11  \n",
       "3               0.520487              -1.806087   45.00  \n",
       "4               0.416721              -1.813394   41.96  "
      ]
     },
     "execution_count": 9,
     "metadata": {},
     "output_type": "execute_result"
    }
   ],
   "source": [
    "finalDf.head()"
   ]
  },
  {
   "cell_type": "code",
   "execution_count": 10,
   "id": "47e7ca41-c4d4-43a4-9406-e0f86211df50",
   "metadata": {},
   "outputs": [
    {
     "data": {
      "text/html": [
       "<div>\n",
       "<style scoped>\n",
       "    .dataframe tbody tr th:only-of-type {\n",
       "        vertical-align: middle;\n",
       "    }\n",
       "\n",
       "    .dataframe tbody tr th {\n",
       "        vertical-align: top;\n",
       "    }\n",
       "\n",
       "    .dataframe thead th {\n",
       "        text-align: right;\n",
       "    }\n",
       "</style>\n",
       "<table border=\"1\" class=\"dataframe\">\n",
       "  <thead>\n",
       "    <tr style=\"text-align: right;\">\n",
       "      <th></th>\n",
       "      <th>principal component 1</th>\n",
       "      <th>principal component 2</th>\n",
       "      <th>principal component 3</th>\n",
       "      <th>principal component 4</th>\n",
       "      <th>principal component 5</th>\n",
       "      <th>amt</th>\n",
       "    </tr>\n",
       "  </thead>\n",
       "  <tbody>\n",
       "    <tr>\n",
       "      <th>1296670</th>\n",
       "      <td>2.586491</td>\n",
       "      <td>0.035995</td>\n",
       "      <td>-0.334264</td>\n",
       "      <td>-0.103559</td>\n",
       "      <td>1.763328</td>\n",
       "      <td>15.56</td>\n",
       "    </tr>\n",
       "    <tr>\n",
       "      <th>1296671</th>\n",
       "      <td>-1.649564</td>\n",
       "      <td>0.063766</td>\n",
       "      <td>-0.171376</td>\n",
       "      <td>-0.147947</td>\n",
       "      <td>1.757919</td>\n",
       "      <td>51.70</td>\n",
       "    </tr>\n",
       "    <tr>\n",
       "      <th>1296672</th>\n",
       "      <td>2.212200</td>\n",
       "      <td>-1.134903</td>\n",
       "      <td>0.057992</td>\n",
       "      <td>-0.146105</td>\n",
       "      <td>1.774992</td>\n",
       "      <td>105.93</td>\n",
       "    </tr>\n",
       "    <tr>\n",
       "      <th>1296673</th>\n",
       "      <td>1.099826</td>\n",
       "      <td>1.471786</td>\n",
       "      <td>-0.063193</td>\n",
       "      <td>-0.080180</td>\n",
       "      <td>1.767801</td>\n",
       "      <td>74.90</td>\n",
       "    </tr>\n",
       "    <tr>\n",
       "      <th>1296674</th>\n",
       "      <td>2.145631</td>\n",
       "      <td>2.248437</td>\n",
       "      <td>-0.371662</td>\n",
       "      <td>-2.911767</td>\n",
       "      <td>1.281997</td>\n",
       "      <td>4.30</td>\n",
       "    </tr>\n",
       "  </tbody>\n",
       "</table>\n",
       "</div>"
      ],
      "text/plain": [
       "         principal component 1  principal component 2  principal component 3  \\\n",
       "1296670               2.586491               0.035995              -0.334264   \n",
       "1296671              -1.649564               0.063766              -0.171376   \n",
       "1296672               2.212200              -1.134903               0.057992   \n",
       "1296673               1.099826               1.471786              -0.063193   \n",
       "1296674               2.145631               2.248437              -0.371662   \n",
       "\n",
       "         principal component 4  principal component 5     amt  \n",
       "1296670              -0.103559               1.763328   15.56  \n",
       "1296671              -0.147947               1.757919   51.70  \n",
       "1296672              -0.146105               1.774992  105.93  \n",
       "1296673              -0.080180               1.767801   74.90  \n",
       "1296674              -2.911767               1.281997    4.30  "
      ]
     },
     "execution_count": 10,
     "metadata": {},
     "output_type": "execute_result"
    }
   ],
   "source": [
    "finalDf.tail()"
   ]
  },
  {
   "cell_type": "code",
   "execution_count": 11,
   "id": "2f2c5be9-b0af-4332-84ed-10e1e4bca1fc",
   "metadata": {},
   "outputs": [
    {
     "data": {
      "text/plain": [
       "principal component 1   -3.035507\n",
       "principal component 2   -4.438062\n",
       "principal component 3   -0.426863\n",
       "principal component 4   -3.925141\n",
       "principal component 5   -2.365680\n",
       "amt                      1.000000\n",
       "dtype: float64"
      ]
     },
     "execution_count": 11,
     "metadata": {},
     "output_type": "execute_result"
    }
   ],
   "source": [
    "finalDf.min()"
   ]
  },
  {
   "cell_type": "code",
   "execution_count": 12,
   "id": "d6a6b423-9ecd-4e7a-a5fc-914f674596a3",
   "metadata": {},
   "outputs": [
    {
     "data": {
      "text/plain": [
       "principal component 1        7.133470\n",
       "principal component 2        8.625066\n",
       "principal component 3      127.257923\n",
       "principal component 4        4.784942\n",
       "principal component 5        5.280459\n",
       "amt                      28948.900000\n",
       "dtype: float64"
      ]
     },
     "execution_count": 12,
     "metadata": {},
     "output_type": "execute_result"
    }
   ],
   "source": [
    "finalDf.max()"
   ]
  },
  {
   "cell_type": "code",
   "execution_count": 13,
   "id": "198a4d73-f8f2-43e7-bb19-2858933c4fcd",
   "metadata": {},
   "outputs": [
    {
     "data": {
      "text/plain": [
       "principal component 1    -0.300260\n",
       "principal component 2     0.188055\n",
       "principal component 3    -0.154639\n",
       "principal component 4     0.167642\n",
       "principal component 5    -0.005396\n",
       "amt                      47.520000\n",
       "dtype: float64"
      ]
     },
     "execution_count": 13,
     "metadata": {},
     "output_type": "execute_result"
    }
   ],
   "source": [
    "finalDf.median()"
   ]
  },
  {
   "cell_type": "code",
   "execution_count": 14,
   "id": "9f41b207-7af8-4646-bd0d-26f77ec0dee3",
   "metadata": {},
   "outputs": [
    {
     "data": {
      "text/plain": [
       "principal component 1   -1.020553e-10\n",
       "principal component 2    2.293632e-11\n",
       "principal component 3   -1.523404e-11\n",
       "principal component 4   -4.274625e-11\n",
       "principal component 5   -3.497007e-10\n",
       "amt                      9.122243e+07\n",
       "dtype: float64"
      ]
     },
     "execution_count": 14,
     "metadata": {},
     "output_type": "execute_result"
    }
   ],
   "source": [
    "finalDf.sum()"
   ]
  },
  {
   "cell_type": "code",
   "execution_count": 15,
   "id": "5e96f5b9-4665-4369-88c1-be7f86270434",
   "metadata": {},
   "outputs": [
    {
     "data": {
      "text/plain": [
       "principal component 1    1296675\n",
       "principal component 2    1296675\n",
       "principal component 3    1296675\n",
       "principal component 4    1296675\n",
       "principal component 5    1296675\n",
       "amt                      1296675\n",
       "dtype: int64"
      ]
     },
     "execution_count": 15,
     "metadata": {},
     "output_type": "execute_result"
    }
   ],
   "source": [
    "finalDf.count()"
   ]
  },
  {
   "cell_type": "code",
   "execution_count": 16,
   "id": "c3234a3e-4daa-461b-a6fc-d5f60ecff97a",
   "metadata": {},
   "outputs": [
    {
     "data": {
      "text/plain": [
       "principal component 1   -7.870534e-17\n",
       "principal component 2    1.768856e-17\n",
       "principal component 3   -1.174854e-17\n",
       "principal component 4   -3.296605e-17\n",
       "principal component 5   -2.696903e-16\n",
       "amt                      7.035104e+01\n",
       "dtype: float64"
      ]
     },
     "execution_count": 16,
     "metadata": {},
     "output_type": "execute_result"
    }
   ],
   "source": [
    "finalDf.mean()"
   ]
  },
  {
   "cell_type": "code",
   "execution_count": 17,
   "id": "e6d6e8bc-2e3a-4fa7-a0e6-db17c644775b",
   "metadata": {},
   "outputs": [
    {
     "name": "stdout",
     "output_type": "stream",
     "text": [
      "<class 'pandas.core.frame.DataFrame'>\n",
      "RangeIndex: 1296675 entries, 0 to 1296674\n",
      "Data columns (total 6 columns):\n",
      " #   Column                 Non-Null Count    Dtype  \n",
      "---  ------                 --------------    -----  \n",
      " 0   principal component 1  1296675 non-null  float64\n",
      " 1   principal component 2  1296675 non-null  float64\n",
      " 2   principal component 3  1296675 non-null  float64\n",
      " 3   principal component 4  1296675 non-null  float64\n",
      " 4   principal component 5  1296675 non-null  float64\n",
      " 5   amt                    1296675 non-null  float64\n",
      "dtypes: float64(6)\n",
      "memory usage: 59.4 MB\n"
     ]
    }
   ],
   "source": [
    "finalDf.info()"
   ]
  },
  {
   "cell_type": "code",
   "execution_count": 18,
   "id": "44d4d5f8-405d-4a43-bb10-28878cbad0a9",
   "metadata": {},
   "outputs": [
    {
     "data": {
      "text/plain": [
       "(1296675, 6)"
      ]
     },
     "execution_count": 18,
     "metadata": {},
     "output_type": "execute_result"
    }
   ],
   "source": [
    "finalDf.shape"
   ]
  },
  {
   "cell_type": "code",
   "execution_count": 19,
   "id": "658178bd-5c77-41ec-99aa-0816758c93ca",
   "metadata": {},
   "outputs": [
    {
     "data": {
      "text/html": [
       "<div>\n",
       "<style scoped>\n",
       "    .dataframe tbody tr th:only-of-type {\n",
       "        vertical-align: middle;\n",
       "    }\n",
       "\n",
       "    .dataframe tbody tr th {\n",
       "        vertical-align: top;\n",
       "    }\n",
       "\n",
       "    .dataframe thead th {\n",
       "        text-align: right;\n",
       "    }\n",
       "</style>\n",
       "<table border=\"1\" class=\"dataframe\">\n",
       "  <thead>\n",
       "    <tr style=\"text-align: right;\">\n",
       "      <th></th>\n",
       "      <th>principal component 1</th>\n",
       "      <th>principal component 2</th>\n",
       "      <th>principal component 3</th>\n",
       "      <th>principal component 4</th>\n",
       "      <th>principal component 5</th>\n",
       "      <th>amt</th>\n",
       "    </tr>\n",
       "  </thead>\n",
       "  <tbody>\n",
       "    <tr>\n",
       "      <th>0</th>\n",
       "      <td>-1.115002</td>\n",
       "      <td>-0.710801</td>\n",
       "      <td>-0.319098</td>\n",
       "      <td>0.405811</td>\n",
       "      <td>-1.817508</td>\n",
       "      <td>4.97</td>\n",
       "    </tr>\n",
       "    <tr>\n",
       "      <th>1</th>\n",
       "      <td>3.096899</td>\n",
       "      <td>3.273340</td>\n",
       "      <td>0.151566</td>\n",
       "      <td>0.561539</td>\n",
       "      <td>-1.792415</td>\n",
       "      <td>107.23</td>\n",
       "    </tr>\n",
       "    <tr>\n",
       "      <th>2</th>\n",
       "      <td>2.426565</td>\n",
       "      <td>1.476409</td>\n",
       "      <td>0.639419</td>\n",
       "      <td>0.493559</td>\n",
       "      <td>-1.779087</td>\n",
       "      <td>220.11</td>\n",
       "    </tr>\n",
       "    <tr>\n",
       "      <th>3</th>\n",
       "      <td>1.837218</td>\n",
       "      <td>2.554559</td>\n",
       "      <td>-0.126515</td>\n",
       "      <td>0.520487</td>\n",
       "      <td>-1.806087</td>\n",
       "      <td>45.00</td>\n",
       "    </tr>\n",
       "    <tr>\n",
       "      <th>4</th>\n",
       "      <td>-1.484057</td>\n",
       "      <td>-0.069839</td>\n",
       "      <td>-0.152185</td>\n",
       "      <td>0.416721</td>\n",
       "      <td>-1.813394</td>\n",
       "      <td>41.96</td>\n",
       "    </tr>\n",
       "    <tr>\n",
       "      <th>...</th>\n",
       "      <td>...</td>\n",
       "      <td>...</td>\n",
       "      <td>...</td>\n",
       "      <td>...</td>\n",
       "      <td>...</td>\n",
       "      <td>...</td>\n",
       "    </tr>\n",
       "    <tr>\n",
       "      <th>1296670</th>\n",
       "      <td>2.586491</td>\n",
       "      <td>0.035995</td>\n",
       "      <td>-0.334264</td>\n",
       "      <td>-0.103559</td>\n",
       "      <td>1.763328</td>\n",
       "      <td>15.56</td>\n",
       "    </tr>\n",
       "    <tr>\n",
       "      <th>1296671</th>\n",
       "      <td>-1.649564</td>\n",
       "      <td>0.063766</td>\n",
       "      <td>-0.171376</td>\n",
       "      <td>-0.147947</td>\n",
       "      <td>1.757919</td>\n",
       "      <td>51.70</td>\n",
       "    </tr>\n",
       "    <tr>\n",
       "      <th>1296672</th>\n",
       "      <td>2.212200</td>\n",
       "      <td>-1.134903</td>\n",
       "      <td>0.057992</td>\n",
       "      <td>-0.146105</td>\n",
       "      <td>1.774992</td>\n",
       "      <td>105.93</td>\n",
       "    </tr>\n",
       "    <tr>\n",
       "      <th>1296673</th>\n",
       "      <td>1.099826</td>\n",
       "      <td>1.471786</td>\n",
       "      <td>-0.063193</td>\n",
       "      <td>-0.080180</td>\n",
       "      <td>1.767801</td>\n",
       "      <td>74.90</td>\n",
       "    </tr>\n",
       "    <tr>\n",
       "      <th>1296674</th>\n",
       "      <td>2.145631</td>\n",
       "      <td>2.248437</td>\n",
       "      <td>-0.371662</td>\n",
       "      <td>-2.911767</td>\n",
       "      <td>1.281997</td>\n",
       "      <td>4.30</td>\n",
       "    </tr>\n",
       "  </tbody>\n",
       "</table>\n",
       "<p>1296675 rows × 6 columns</p>\n",
       "</div>"
      ],
      "text/plain": [
       "         principal component 1  principal component 2  principal component 3  \\\n",
       "0                    -1.115002              -0.710801              -0.319098   \n",
       "1                     3.096899               3.273340               0.151566   \n",
       "2                     2.426565               1.476409               0.639419   \n",
       "3                     1.837218               2.554559              -0.126515   \n",
       "4                    -1.484057              -0.069839              -0.152185   \n",
       "...                        ...                    ...                    ...   \n",
       "1296670               2.586491               0.035995              -0.334264   \n",
       "1296671              -1.649564               0.063766              -0.171376   \n",
       "1296672               2.212200              -1.134903               0.057992   \n",
       "1296673               1.099826               1.471786              -0.063193   \n",
       "1296674               2.145631               2.248437              -0.371662   \n",
       "\n",
       "         principal component 4  principal component 5     amt  \n",
       "0                     0.405811              -1.817508    4.97  \n",
       "1                     0.561539              -1.792415  107.23  \n",
       "2                     0.493559              -1.779087  220.11  \n",
       "3                     0.520487              -1.806087   45.00  \n",
       "4                     0.416721              -1.813394   41.96  \n",
       "...                        ...                    ...     ...  \n",
       "1296670              -0.103559               1.763328   15.56  \n",
       "1296671              -0.147947               1.757919   51.70  \n",
       "1296672              -0.146105               1.774992  105.93  \n",
       "1296673              -0.080180               1.767801   74.90  \n",
       "1296674              -2.911767               1.281997    4.30  \n",
       "\n",
       "[1296675 rows x 6 columns]"
      ]
     },
     "execution_count": 19,
     "metadata": {},
     "output_type": "execute_result"
    }
   ],
   "source": [
    "finalDf"
   ]
  },
  {
   "cell_type": "code",
   "execution_count": null,
   "id": "6e7506c8-aef5-49b3-8e59-7cabada4503b",
   "metadata": {},
   "outputs": [],
   "source": []
  }
 ],
 "metadata": {
  "kernelspec": {
   "display_name": "Python 3 (ipykernel)",
   "language": "python",
   "name": "python3"
  },
  "language_info": {
   "codemirror_mode": {
    "name": "ipython",
    "version": 3
   },
   "file_extension": ".py",
   "mimetype": "text/x-python",
   "name": "python",
   "nbconvert_exporter": "python",
   "pygments_lexer": "ipython3",
   "version": "3.12.1"
  }
 },
 "nbformat": 4,
 "nbformat_minor": 5
}
